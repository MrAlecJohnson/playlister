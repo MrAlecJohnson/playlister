{
 "cells": [
  {
   "cell_type": "code",
   "execution_count": null,
   "metadata": {
    "colab": {
     "base_uri": "https://localhost:8080/",
     "height": 367
    },
    "colab_type": "code",
    "id": "D0LlOQ_U5YOE",
    "outputId": "b982c01f-1812-47b3-da05-6edc36dfadb7"
   },
   "outputs": [],
   "source": [
    "import pandas\n",
    "import requests\n",
    "import spotipy\n",
    "import string\n",
    "import re\n",
    "\n",
    "from spotipy.oauth2 import SpotifyClientCredentials\n",
    "from genderize import Genderize\n",
    "\n",
    "\"\"\"\n",
    "# Spacy approach didn't work well here\n",
    "# From 'Song for Bob Dylan', extracted the name 'Song' :(\n",
    "import spacy\n",
    "import spacy.cli\n",
    "spacy.cli.download('en_core_web_lg')\n",
    "en = spacy.load('en_core_web_lg')\n",
    "\n",
    "\"\"\"\n"
   ]
  },
  {
   "cell_type": "code",
   "execution_count": null,
   "metadata": {
    "collapsed": true
   },
   "outputs": [],
   "source": [
    "with open('vars.env', 'r') as f:\n",
    "    my_id = f.readline().rstrip('\\n')\n",
    "    my_secret = f.readline().rstrip('\\n')\n",
    "    playlistURI = f.readline().rstrip('\\n')\n",
    "    owner = f.readline().rstrip('\\n')\n",
    "\n",
    "client_credentials_manager = SpotifyClientCredentials(client_id=my_id, client_secret=my_secret)\n",
    "sp = spotipy.Spotify(client_credentials_manager=client_credentials_manager)\n",
    "\n",
    "playlistID = playlistURI[-22:]\n",
    "\n",
    "results = sp.user_playlist(owner, playlist_id=playlistID, fields='tracks, next')['tracks']\n",
    "\n",
    "songs =  results['items']\n",
    "while results['next']:\n",
    "    results = sp.next(results)\n",
    "    songs.extend(results['items'])\n",
    "\n",
    "idSet = {track['added_by']['id'] for track in songs}    \n",
    "us = {(id, sp.user(id)['display_name']) for id in idSet}\n",
    "us = dict(us)\n",
    "us['rmb101'] = 'rmb101'\n",
    "\n",
    "print(len(songs))"
   ]
  },
  {
   "cell_type": "code",
   "execution_count": null,
   "metadata": {
    "colab": {
     "base_uri": "https://localhost:8080/",
     "height": 201
    },
    "colab_type": "code",
    "id": "yGI19pocFr9C",
    "outputId": "8b6dd1a0-cfff-4f73-97bf-f729e8eef7c2"
   },
   "outputs": [],
   "source": [
    "# Make the dataframe by pulling out the song name, artist and person who added it\n",
    "table = [(track['track']['name'], track['track']['artists'][0]['name'], us[track['added_by']['id']]) \n",
    "         for track in songs]\n",
    "df = pandas.DataFrame(table, columns = ['Song', 'Artist', 'Added by'])\n",
    "\n",
    "# Get rid of anything after a hyphen, as this is all '2012 remastered' kinda text\n",
    "# also remove all apostrophe s and digits\n",
    "df['Text'] = df['Song'].str.lower()\n",
    "df['Text'].replace('\\d| - .*|\\'s','', regex = True, inplace = True)\n",
    "\n",
    "# set up regex to kill off remaining punctuation\n",
    "punclist = string.punctuation\n",
    "punc = re.compile('[%s]' % re.escape(punclist))\n",
    "\n",
    "# bring in list of common words (ie not names) to remove\n",
    "# also a manual list of words I don't want to pick up as names\n",
    "words = pandas.read_csv('top5000.csv')\n",
    "wordlist = words['Top words'].tolist()\n",
    "wordlist.remove('sue')\n",
    "blocklist = ['rigby', 'marmalade', 'runaround', 'dont', 'hasty', 'mambo', 'holland', 'speedy', 'lind', 'stars', 'o', 'ode', 'punk', 'rocker']\n",
    "wordlist.extend(blocklist)\n",
    "\n",
    "# function to remove the punctuation and common names\n",
    "# returns as list because I'm going to gender assign each word\n",
    "# names set is so I don't need to call genderize on the same name twice\n",
    "nameSet = set()\n",
    "\n",
    "def namesOnly(row):\n",
    "    text = punc.sub('', row['Text']).split()\n",
    "    newTitle = [word for word in text if word not in wordlist]\n",
    "    global nameSet\n",
    "    for word in newTitle:\n",
    "        nameSet.add(word)\n",
    "    return newTitle \n",
    "\n",
    "df['ShortTitle'] = df.apply(namesOnly, axis = 1)"
   ]
  },
  {
   "cell_type": "code",
   "execution_count": null,
   "metadata": {},
   "outputs": [],
   "source": [
    "nameScores = Genderize().get(nameSet)\n",
    "\n",
    "genders = {}\n",
    "for name in nameScores:\n",
    "    if name['gender']:\n",
    "        if name['probability'] >= 0.7:\n",
    "            genders[name['name']] = name['gender']\n"
   ]
  },
  {
   "cell_type": "code",
   "execution_count": null,
   "metadata": {
    "colab": {
     "base_uri": "https://localhost:8080/",
     "height": 54
    },
    "colab_type": "code",
    "id": "eA5YHg5_LsWl",
    "outputId": "72be97b3-567a-477c-9763-41c8a8a93317",
    "scrolled": false
   },
   "outputs": [],
   "source": [
    "# Manually add gender for ones it can't guess\n",
    "manual = {'chun-li': 'female', 'lady marmalade': 'female', \"l'autre valse d'amélie\": 'female',\n",
    " 'mr. bojangles': 'male','i loves you porgy': 'male', 'rihanna': 'female',\n",
    " 'dear rose': 'female', 'van gogh ear': 'male', \"rockin' robin\": 'female',\n",
    " 'gurdjieff daughter': 'female', 'seigfried': 'male', 'saint dymphna': 'female'}\n",
    "\n",
    "# Function to get genders from list for names in song title\n",
    "def identify(name):\n",
    "    guesses = set()\n",
    "    for word in name['ShortTitle']:\n",
    "        if word in genders:\n",
    "            guesses.add(genders[word])\n",
    "    if len(set(guesses)) == 1:\n",
    "        return guesses.pop()\n",
    "    elif not guesses:\n",
    "        try:\n",
    "            return manual[name['Text']]\n",
    "        except:\n",
    "            return ''\n",
    "    else:\n",
    "        return guesses\n",
    "\n",
    "df['Guesses'] = df.apply(identify, axis = 1)\n"
   ]
  },
  {
   "cell_type": "code",
   "execution_count": null,
   "metadata": {},
   "outputs": [],
   "source": [
    "df[['Text', 'ShortTitle', 'Guesses']].loc[~df['Guesses'].astype(str).isin(['male', 'female']) ]\n",
    "\n"
   ]
  },
  {
   "cell_type": "code",
   "execution_count": null,
   "metadata": {
    "collapsed": true
   },
   "outputs": [],
   "source": [
    "# now for artists (argh)\n"
   ]
  },
  {
   "cell_type": "markdown",
   "metadata": {
    "colab": {
     "base_uri": "https://localhost:8080/",
     "height": 1580
    },
    "colab_type": "code",
    "id": "AxqlY0ooZpg-",
    "outputId": "b6e2bbf3-1b03-4458-8bfb-4f2ae696284c"
   },
   "source": [
    "# Not really working\n",
    "\n",
    "def entity(text):\n",
    "    nameList = [name for name in en(text['Song']).ents if name.label_ == 'PERSON']\n",
    "    if nameList:\n",
    "        return nameList[0]\n",
    "    else:\n",
    "        return None\n",
    "\n",
    "df['SongNames'] = df.apply(entity, axis = 1)\n",
    "df.head(50)"
   ]
  },
  {
   "cell_type": "code",
   "execution_count": null,
   "metadata": {
    "collapsed": true
   },
   "outputs": [],
   "source": []
  }
 ],
 "metadata": {
  "colab": {
   "collapsed_sections": [],
   "name": "Playlister",
   "provenance": [],
   "version": "0.3.2"
  },
  "kernelspec": {
   "display_name": "Python 3",
   "language": "python",
   "name": "python3"
  },
  "language_info": {
   "codemirror_mode": {
    "name": "ipython",
    "version": 3
   },
   "file_extension": ".py",
   "mimetype": "text/x-python",
   "name": "python",
   "nbconvert_exporter": "python",
   "pygments_lexer": "ipython3",
   "version": "3.6.3"
  }
 },
 "nbformat": 4,
 "nbformat_minor": 1
}
