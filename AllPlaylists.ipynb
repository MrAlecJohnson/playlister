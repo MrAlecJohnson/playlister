{
 "cells": [
  {
   "cell_type": "code",
   "execution_count": null,
   "metadata": {},
   "outputs": [],
   "source": [
    "# I wonder if I can make a big table of all our playlists\n",
    "\n",
    "import pandas\n",
    "import requests\n",
    "import string\n",
    "import re\n",
    "import spotipy\n",
    "import spotipy.util as util\n",
    "\n",
    "from spotipy.oauth2 import SpotifyClientCredentials\n",
    "from numpy import nan\n",
    "\n",
    "# Authenticate from offline file\n",
    "with open('vars.env', 'r') as f:\n",
    "    my_id = f.readline().rstrip('\\n')\n",
    "    my_secret = f.readline().rstrip('\\n')\n",
    "    f.readline()\n",
    "    f.readline()\n",
    "    f.readline()\n",
    "    f.readline()\n",
    "    me = f.readline().rstrip('\\n')\n",
    "    my_site = f.readline().rstrip('\\n')\n",
    "\n",
    "# Get playlists from Spotify \n",
    "scope = 'playlist-read-private'\n",
    "token = util.prompt_for_user_token(me, scope, client_id = my_id, \n",
    "                                   client_secret = my_secret, redirect_uri = my_site)\n",
    "\n",
    "client_credentials_manager = SpotifyClientCredentials(client_id=my_id, client_secret=my_secret)\n",
    "sp = spotipy.Spotify(client_credentials_manager=client_credentials_manager)\n",
    "playlists = sp.user_playlists(me)\n",
    "\n",
    "\n",
    "\n",
    "\"\"\"\n",
    "results = sp.user_playlist(owner, playlist_id=playlistID, fields='tracks, next')['tracks']\n",
    "songs =  results['items']\n",
    "\n",
    "# Page through songs in playlist\n",
    "while results['next']:\n",
    "    results = sp.next(results)\n",
    "    songs.extend(results['items'])\n",
    "\"\"\"\n"
   ]
  },
  {
   "cell_type": "code",
   "execution_count": null,
   "metadata": {},
   "outputs": [],
   "source": [
    "playlists\n"
   ]
  }
 ],
 "metadata": {
  "kernelspec": {
   "display_name": "Python 3",
   "language": "python",
   "name": "python3"
  },
  "language_info": {
   "codemirror_mode": {
    "name": "ipython",
    "version": 3
   },
   "file_extension": ".py",
   "mimetype": "text/x-python",
   "name": "python",
   "nbconvert_exporter": "python",
   "pygments_lexer": "ipython3",
   "version": "3.6.3"
  }
 },
 "nbformat": 4,
 "nbformat_minor": 2
}
