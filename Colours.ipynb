{
 "cells": [
  {
   "cell_type": "code",
   "execution_count": 1,
   "metadata": {},
   "outputs": [],
   "source": [
    "\n",
    "import pandas\n",
    "import requests\n",
    "import spotipy\n",
    "import string\n",
    "import re\n",
    "import csv\n",
    "\n",
    "from spotipy.oauth2 import SpotifyClientCredentials\n",
    "\n",
    "with open('vars.env', 'r') as f:\n",
    "    my_id = f.readline().rstrip('\\n')\n",
    "    my_secret = f.readline().rstrip('\\n')\n",
    "    f.readline()\n",
    "    f.readline()\n",
    "    playlistURI = f.readline().rstrip('\\n')\n",
    "    owner = f.readline().rstrip('\\n')\n",
    "\n",
    "client_credentials_manager = SpotifyClientCredentials(client_id=my_id, client_secret=my_secret)\n",
    "sp = spotipy.Spotify(client_credentials_manager=client_credentials_manager)\n",
    "\n",
    "playlistID = playlistURI[-22:]\n",
    "\n",
    "results = sp.user_playlist(owner, playlist_id=playlistID, fields='tracks, next')['tracks']\n",
    "\n",
    "songs =  results['items']\n",
    "while results['next']:\n",
    "    results = sp.next(results)\n",
    "    songs.extend(results['items'])\n",
    "\n",
    "idSet = {track['added_by']['id'] for track in songs}    \n",
    "us = {(id, sp.user(id)['display_name']) for id in idSet}\n",
    "us = dict(us)\n",
    "us['rmb101'] = 'rmb101'\n",
    "\n",
    "# Make the dataframe by pulling out the song name, artist and person who added it\n",
    "table = [(track['track']['name'], track['track']['artists'][0]['name'], track['track']['album']['name'], us[track['added_by']['id']]) \n",
    "         for track in songs]\n",
    "df = pandas.DataFrame(table, columns = ['Song', 'Artist', 'Album', 'Added by'])"
   ]
  },
  {
   "cell_type": "code",
   "execution_count": 2,
   "metadata": {},
   "outputs": [],
   "source": [
    "cols = ['colour', 'color','red', 'orange', 'yellow', 'green', 'blue', 'purple', 'pink', 'brown', 'gray', 'black', 'white', 'gold', 'lilac', 'xanadu', 'mikado', 'midnight', 'octarine', 'rust', 'mustard']\n",
    "\n",
    "more = 'White silver grey black navy blue cerulean sky blue turquoise blue-green azure teal cyan green lime chartreuse olive yellow gold amber orange brown orange-red red maroon rose red-violet pink magenta purple blue-violet indigo violet peach apricot ochre plum'.split()\n",
    "\n",
    "cols.extend(more)\n",
    "\n",
    "colCount = {}\n",
    "\n",
    "text = df['Song'].str.lower().to_string() + df['Album'].str.lower().to_string() \n",
    "\n",
    "for hue in cols: \n",
    "    count = text.count(hue)\n",
    "    if count > 0:\n",
    "        colCount[hue] = count\n",
    "        \n",
    "colCount['colour or color'] = colCount['color'] + colCount['colour']\n",
    "del colCount['color']\n",
    "del colCount['colour']"
   ]
  },
  {
   "cell_type": "code",
   "execution_count": 3,
   "metadata": {},
   "outputs": [],
   "source": [
    "results = [(colour, count) for colour, count in colCount.items()]\n",
    "results.sort(key=lambda pair: -pair[1])"
   ]
  },
  {
   "cell_type": "code",
   "execution_count": 4,
   "metadata": {},
   "outputs": [],
   "source": [
    "with open('colours.csv', 'w') as f:\n",
    "    w = csv.writer(f)\n",
    "    w.writerows(results)\n"
   ]
  },
  {
   "cell_type": "code",
   "execution_count": null,
   "metadata": {},
   "outputs": [],
   "source": []
  }
 ],
 "metadata": {
  "kernelspec": {
   "display_name": "Python 3",
   "language": "python",
   "name": "python3"
  },
  "language_info": {
   "codemirror_mode": {
    "name": "ipython",
    "version": 3
   },
   "file_extension": ".py",
   "mimetype": "text/x-python",
   "name": "python",
   "nbconvert_exporter": "python",
   "pygments_lexer": "ipython3",
   "version": "3.6.4"
  }
 },
 "nbformat": 4,
 "nbformat_minor": 2
}
