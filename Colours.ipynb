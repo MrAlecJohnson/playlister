{
 "cells": [
  {
   "cell_type": "code",
   "execution_count": 26,
   "metadata": {},
   "outputs": [
    {
     "name": "stdout",
     "output_type": "stream",
     "text": [
      "130\n",
      "           Song                  Artist              Album    Added by\n",
      "0   Colourblind                  Darius            Dive In     rjdw500\n",
      "1      Red Eyes        The War On Drugs  Lost In The Dream  Adam Smith\n",
      "2        Colors                Amos Lee           Amos Lee     rjdw500\n",
      "3   Grant Green                Mr Jukes          God First  Adam Smith\n",
      "4  Green Onions  Booker T. & the M.G.'s       Green Onions     rjdw500\n"
     ]
    }
   ],
   "source": [
    "\n",
    "import pandas\n",
    "import requests\n",
    "import spotipy\n",
    "import string\n",
    "import re\n",
    "import csv\n",
    "\n",
    "from spotipy.oauth2 import SpotifyClientCredentials\n",
    "\n",
    "with open('vars.env', 'r') as f:\n",
    "    my_id = f.readline().rstrip('\\n')\n",
    "    my_secret = f.readline().rstrip('\\n')\n",
    "    f.readline()\n",
    "    f.readline()\n",
    "    playlistURI = f.readline().rstrip('\\n')\n",
    "    owner = f.readline().rstrip('\\n')\n",
    "\n",
    "client_credentials_manager = SpotifyClientCredentials(client_id=my_id, client_secret=my_secret)\n",
    "sp = spotipy.Spotify(client_credentials_manager=client_credentials_manager)\n",
    "\n",
    "playlistID = playlistURI[-22:]\n",
    "\n",
    "results = sp.user_playlist(owner, playlist_id=playlistID, fields='tracks, next')['tracks']\n",
    "\n",
    "songs =  results['items']\n",
    "while results['next']:\n",
    "    results = sp.next(results)\n",
    "    songs.extend(results['items'])\n",
    "\n",
    "idSet = {track['added_by']['id'] for track in songs}    \n",
    "us = {(id, sp.user(id)['display_name']) for id in idSet}\n",
    "us = dict(us)\n",
    "us['rmb101'] = 'rmb101'\n",
    "\n",
    "print(len(songs))\n",
    "\n",
    "# Make the dataframe by pulling out the song name, artist and person who added it\n",
    "table = [(track['track']['name'], track['track']['artists'][0]['name'], track['track']['album']['name'], us[track['added_by']['id']]) \n",
    "         for track in songs]\n",
    "df = pandas.DataFrame(table, columns = ['Song', 'Artist', 'Album', 'Added by'])\n",
    "\n",
    "print(df.head())"
   ]
  },
  {
   "cell_type": "code",
   "execution_count": 27,
   "metadata": {},
   "outputs": [
    {
     "data": {
      "text/plain": [
       "{'amber': 1,\n",
       " 'black': 4,\n",
       " 'blue': 37,\n",
       " 'brown': 3,\n",
       " 'color': 11,\n",
       " 'colour': 18,\n",
       " 'gold': 17,\n",
       " 'green': 17,\n",
       " 'lilac': 1,\n",
       " 'orange': 4,\n",
       " 'pink': 6,\n",
       " 'purple': 3,\n",
       " 'red': 41,\n",
       " 'rose': 1,\n",
       " 'silver': 1,\n",
       " 'sky': 3,\n",
       " 'violet': 1,\n",
       " 'white': 4,\n",
       " 'yellow': 9}"
      ]
     },
     "execution_count": 27,
     "metadata": {},
     "output_type": "execute_result"
    }
   ],
   "source": [
    "cols = ['colour', 'color','red', 'orange', 'yellow', 'green', 'blue', 'purple', 'pink', 'brown', 'gray', 'black', 'white', 'gold', 'lilac']\n",
    "\n",
    "more = 'White silver grey black navy blue cerulean sky blue turquoise blue-green azure teal cyan green lime chartreuse olive yellow gold amber orange brown orange-red red maroon rose red-violet pink magenta purple blue-violet indigo violet peach apricot ochre plum'.split()\n",
    "\n",
    "cols.extend(more)\n",
    "\n",
    "colCount = {}\n",
    "\n",
    "text = df['Song'].str.lower().to_string() + df['Album'].str.lower().to_string() \n",
    "\n",
    "for hue in cols: \n",
    "    count = text.count(hue)\n",
    "    if count > 0:\n",
    "        colCount[hue] = count\n",
    "\n",
    "colCount"
   ]
  },
  {
   "cell_type": "code",
   "execution_count": 30,
   "metadata": {},
   "outputs": [],
   "source": [
    "with open('colours.csv', 'w') as f:\n",
    "    w = csv.writer(f)\n",
    "    w.writerows(colCount.items())\n"
   ]
  },
  {
   "cell_type": "code",
   "execution_count": null,
   "metadata": {},
   "outputs": [],
   "source": []
  }
 ],
 "metadata": {
  "kernelspec": {
   "display_name": "Python 3",
   "language": "python",
   "name": "python3"
  },
  "language_info": {
   "codemirror_mode": {
    "name": "ipython",
    "version": 3
   },
   "file_extension": ".py",
   "mimetype": "text/x-python",
   "name": "python",
   "nbconvert_exporter": "python",
   "pygments_lexer": "ipython3",
   "version": "3.6.4"
  }
 },
 "nbformat": 4,
 "nbformat_minor": 2
}
